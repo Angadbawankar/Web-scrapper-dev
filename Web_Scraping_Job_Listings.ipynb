{
 "cells": [
  {
   "cell_type": "markdown",
   "metadata": {
    "colab_type": "text",
    "id": "view-in-github"
   },
   "source": [
    "<a href=\"https://colab.research.google.com/github/rohitpaul09/Web-Scraping-Data-Science-Job-Listings/blob/main/Web_Scraping_Job_Listings.ipynb\" target=\"_parent\"><img src=\"https://colab.research.google.com/assets/colab-badge.svg\" alt=\"Open In Colab\"/></a>"
   ]
  },
  {
   "cell_type": "markdown",
   "metadata": {
    "id": "0vWxEIoTBrXg"
   },
   "source": [
    "## **Project Name: Web Scraping Data Science Job Listings**"
   ]
  },
  {
   "cell_type": "markdown",
   "metadata": {
    "id": "zF7EAsW_CB0V"
   },
   "source": [
    "##### **Project Type**    - EDA\n",
    "##### **Contribution**    - Individual"
   ]
  },
  {
   "cell_type": "markdown",
   "metadata": {
    "id": "zqleoN6vFcyO"
   },
   "source": [
    "## **Project Summary:**\n",
    "\n",
    " The primary goal is to develop an intelligent tool that streamlines data science job searches by utilizing web scraping on the Jobs website. Through the extraction of key details and the presentation of insights via visualizations, the tool aims to assist individuals in navigating the data science job market. It also keeps professionals, job seekers, and recruiters well-informed about industry trends.\n",
    "\n",
    "**Web Scraping:** The project began with web scraping job listings from the TimesJobs website. The Python code utilized the BeautifulSoup library to extract relevant details from the job listings, including job title, company name, skills required, posting time, location, and salary. The scraping process involved iterating through multiple pages of job listings, refining the extraction process, and handling diverse data structures on the website.\n",
    "\n",
    "**Data Cleaning and Transformation:** Following data extraction, the code applied techniques like strip() and replace() to organize the data systematically using the pandas library. Custom functions ensured a clean extraction of salary information, handling variations like 'Lacs,' and refining experience data for consistency.\n",
    "\n",
    "**Visualization/EDA (Exploratory Data Analysis):**\n",
    "Various visualizations were created to offer insights into different facets of the data science job market. The **WordCloud for In-Demand Skills** revealed Python, SQL, Machine Learning, and Data Mining as highly sought-after skills. **Top Cities with Most Job Openings** visualized job distribution across cities, highlighting Delhi with the highest number of openings. A **Comparison of Full-Time Jobs and Internships** indicated that 88.0% of opportunities are full-time positions, with the remaining 12.0% being internships. **Top Companies Providing Internship Opportunities** identified Maxgen Technologies as the leading provider. A **Comparison of Work from Home vs. On-Site Opportunities** showed 80.0% on-site and 20.0% work-from-home options. **Top Companies Providing Work from Home Options** showcased Minanshika Softech Solution Pvt Ltd and Soumya Gayen at the forefront. **Salary Distribution Analysis** depicted a concentration around 0-10 Lacs per annum, indicating entry-level pay scales, while **Experience Requirements Analysis** revealed a demand for beginners and 1-3 yrs experienced roles. The **Relationship Between Salary and Experience** visualized clusters, with 0-10 indicating entry-level and near 50 corresponding to higher packages for experienced professionals.\n",
    "\n",
    "In summary, the project developed a valuable tool for comprehending data science job opportunities. By extracting data from the website and employing visualizations, it offered beneficial insights for professionals, job seekers, and recruiters in the dynamic field of data science. **It is important to note that these insights are derived from a snapshot of data and may evolve with real-time updates.**"
   ]
  },
  {
   "cell_type": "markdown",
   "metadata": {
    "id": "0yCsNfocCWdu"
   },
   "source": [
    "## **GitHub Link:** https://github.com/rohitpaul09/Web-Scraping-Data-Science-Job-Listings"
   ]
  },
  {
   "cell_type": "markdown",
   "metadata": {
    "id": "YC-Zn7Fpw7In"
   },
   "source": [
    "## **Problem Statement: Navigating the Data Science Job Landscape**\n",
    "\n",
    "🚀 Unleash your creativity in crafting a solution that taps into the heartbeat of the data science job market! Envision an ingenious project that seamlessly wields cutting-edge web scraping techniques and illuminating data analysis.\n",
    "\n",
    "🔍 Your mission? To engineer a tool that effortlessly gathers job listings from a multitude of online sources, extracting pivotal nuggets such as job descriptions, qualifications, locations, and salaries.\n",
    "\n",
    "🧩 However, the true puzzle lies in deciphering this trove of data. Can your solution discern patterns that spotlight the most coveted skills? Are there threads connecting job types to compensation packages? How might it predict shifts in industry demand?\n",
    "\n",
    "🎯 The core **objectives** of this challenge are as follows:\n",
    "\n",
    "1. Web Scraping Mastery: Forge an adaptable and potent web scraping mechanism. Your creation should adeptly harvest data science job postings from a diverse array of online platforms. Be ready to navigate evolving website structures and process hefty data loads.\n",
    "\n",
    "2. Data Symphony: Skillfully distill vital insights from the harvested job listings. Extract and cleanse critical information like job titles, company names, descriptions, qualifications, salaries, locations, and deadlines. Think data refinement and organization.\n",
    "\n",
    "3. Market Wizardry: Conjure up analytical tools that conjure meaningful revelations from the gathered data. Dive into the abyss of job demand trends, geographic distribution, salary variations tied to experience and location, favored qualifications, and emerging skill demands.\n",
    "\n",
    "4. Visual Magic: Weave a tapestry of visualization magic. Design captivating charts, graphs, and visual representations that paint a crystal-clear picture of the analyzed data. Make these visuals the compass that guides users through job market intricacies.\n",
    "\n",
    "🌐 While the web scraping universe is yours to explore, consider these platforms as potential stomping grounds:\n",
    "\n",
    "* LinkedIn Jobs\n",
    "* Indeed\n",
    "* Naukri\n",
    "* Glassdoor\n",
    "* AngelList\n",
    "* TimesJobs\n",
    "\n",
    "\n",
    "🎈 Your solution should not only decode the data science job realm but also empower professionals, job seekers, and recruiters to harness the dynamic shifts of the industry. The path is open, the challenge beckons – are you ready to embark on this exciting journey?\n",
    "\n",
    "\n",
    "\n",
    "\n"
   ]
  },
  {
   "cell_type": "markdown",
   "metadata": {
    "id": "pGaPdi83Cov4"
   },
   "source": [
    "##**Let's Begin !**"
   ]
  },
  {
   "cell_type": "markdown",
   "metadata": {
    "id": "uCLOT3mvwlBq"
   },
   "source": [
    "## ***1. Know Your Data***"
   ]
  },
  {
   "cell_type": "markdown",
   "metadata": {
    "id": "Fl8AsUOrvFTU"
   },
   "source": [
    "### **Import Libraries**"
   ]
  },
  {
   "cell_type": "code",
   "execution_count": null,
   "metadata": {
    "id": "6wt6SbX6vEn2"
   },
   "outputs": [],
   "source": [
    "# Import Libraries\n",
    "import numpy as np\n",
    "import pandas as pd\n",
    "import seaborn as sns\n",
    "import matplotlib.pyplot as plt\n",
    "from bs4 import BeautifulSoup\n",
    "import requests\n",
    "from wordcloud import WordCloud\n",
    "import warnings\n",
    "warnings.filterwarnings('ignore')\n"
   ]
  },
  {
   "cell_type": "markdown",
   "metadata": {
    "id": "V0Khvn5ODJIF"
   },
   "source": [
    "###**Web Scraping Job Listings with BeautifulSoup and Pandas**\n"
   ]
  },
  {
   "cell_type": "code",
   "execution_count": null,
   "metadata": {
    "id": "PzC30ne571_-"
   },
   "outputs": [],
   "source": [
    "# Define the function to extract salary information\n",
    "def extract_salary(job_element):\n",
    "    # Extract salary information containing 'Lacs'\n",
    "    salary_tags = job_element.find_all('li')\n",
    "    for tag in salary_tags:\n",
    "        if 'Lacs' in tag.text:\n",
    "            return tag.text.strip().replace('₹Rs','').replace('Lacs p.a.','')\n",
    "    return 'Not Provided'\n",
    "\n",
    "def scrape_jobs(pages):\n",
    "    all_data = []\n",
    "    experience_required_list = []\n",
    "\n",
    "    for page in range(1, pages + 1):\n",
    "        # Define the URL for each page\n",
    "        url = f'https://www.timesjobs.com/candidate/job-search.html?from=submit&luceneResultSize=25&txtKeywords=0DQT0Data%20Analyst0DQT0%20,0DQT0Data%20Mining0DQT0,0DQT0Data%20Architect0DQT0,0DQT0Machine%20Learning0DQT0,0DQT0Power%20Bi0DQT0,0DQT0Business%20Analyst0DQT0,0DQT0senior%20business%20analyst0DQT0,0DQT0Bi%20Developer0DQT0&postWeek=7&searchType=personalizedSearch&actualTxtKeywords=0DQT0Data%20Analyst0DQT0%20,0DQT0Data%20Mining0DQT0,0DQT0Data%20Architect0DQT0,0DQT0Machine%20Learning0DQT0,0DQT0Power%20Bi0DQT0,0DQT0Business%20Analyst0DQT0,senior%20business%20analyst,0DQT0Bi%20Developer0DQT0&searchBy=0&rdoOperator=OR&pDate=I&sequence={page}&startPage=1'\n",
    "        html_text = requests.get(url).text\n",
    "        soup = BeautifulSoup(html_text, 'lxml')\n",
    "\n",
    "        # Refining the extraction process to remove unwanted strings from the experience information\n",
    "        for item in soup.find_all('ul', {'class': 'top-jd-dtl clearfix'}):\n",
    "            exp_tag = item.find('li')\n",
    "            if exp_tag and 'yrs' in exp_tag.text:\n",
    "                # Extracting the experience text and removing any unwanted strings\n",
    "                experience = exp_tag.text.replace('card_travel', '').strip().replace('yrs','')\n",
    "                experience_required_list.append(experience)\n",
    "            else:\n",
    "                experience_required_list.append('Not Mentioned')\n",
    "\n",
    "        # Extract job listings\n",
    "        job_listings = soup.find_all('li', class_='clearfix job-bx wht-shd-bx')\n",
    "\n",
    "        for job in job_listings:\n",
    "            skills = job.find('span', class_='srp-skills').text.strip().replace(' ', '').replace('\\r', '').replace('\\n', '').replace('.', 'Not Provided')\n",
    "            location_element = job.find('ul', class_='top-jd-dtl clearfix')\n",
    "            location = location_element.find('span').text.strip() if location_element else 'Not Provided'\n",
    "            posted_ago = job.find('span', class_='sim-posted').span.text.strip().replace('\\r', '').replace('Posted ', '').replace('\\t', '').replace('\\n', '')\n",
    "            company_name = job.find('h3', class_='joblist-comp-name').text.strip().replace('\\r', '').replace('\\n', '').replace(' (More Jobs)', '')\n",
    "\n",
    "            # Create a dictionary for job data\n",
    "            job_data = {\n",
    "                'Job Title': job.find('h2').text.strip(),\n",
    "                'Company': company_name,\n",
    "                'Skills Required': skills,\n",
    "                'Job Posted Ago': posted_ago,\n",
    "                'Location': location,\n",
    "                'Salary(Lacs p.a.)': extract_salary(job)\n",
    "            }\n",
    "            # Append the job data to the list\n",
    "            all_data.append(job_data)\n",
    "\n",
    "    # Create a DataFrame from the collected job data\n",
    "    df = pd.DataFrame(all_data)\n",
    "    # Add the 'Experience Required' column to the DataFrame\n",
    "    df['Experience Required(Years)'] = experience_required_list\n",
    "\n",
    "    return df\n",
    "\n",
    "# Scrape the first 10 pages of job listings\n",
    "df = scrape_jobs(10)\n"
   ]
  },
  {
   "cell_type": "markdown",
   "metadata": {
    "id": "8DEJ1pgOvcxG"
   },
   "source": [
    "### **Dataset First View**"
   ]
  },
  {
   "cell_type": "code",
   "execution_count": null,
   "metadata": {
    "colab": {
     "base_uri": "https://localhost:8080/",
     "height": 485
    },
    "id": "wiMhqECvDVUf",
    "outputId": "aaab9ce6-1c6c-4182-a593-d012da536fc8"
   },
   "outputs": [
    {
     "name": "stdout",
     "output_type": "stream",
     "text": [
      "Scraped Data from Multiple Pages:\n"
     ]
    },
    {
     "data": {
      "text/html": [
       "\n",
       "  <div id=\"df-4e93d600-dee8-4be3-9b19-d17bcd393fbd\" class=\"colab-df-container\">\n",
       "    <div>\n",
       "<style scoped>\n",
       "    .dataframe tbody tr th:only-of-type {\n",
       "        vertical-align: middle;\n",
       "    }\n",
       "\n",
       "    .dataframe tbody tr th {\n",
       "        vertical-align: top;\n",
       "    }\n",
       "\n",
       "    .dataframe thead th {\n",
       "        text-align: right;\n",
       "    }\n",
       "</style>\n",
       "<table border=\"1\" class=\"dataframe\">\n",
       "  <thead>\n",
       "    <tr style=\"text-align: right;\">\n",
       "      <th></th>\n",
       "      <th>Job Title</th>\n",
       "      <th>Company</th>\n",
       "      <th>Skills Required</th>\n",
       "      <th>Job Posted Ago</th>\n",
       "      <th>Location</th>\n",
       "      <th>Salary(Lacs p.a.)</th>\n",
       "      <th>Experience Required(Years)</th>\n",
       "    </tr>\n",
       "  </thead>\n",
       "  <tbody>\n",
       "    <tr>\n",
       "      <th>0</th>\n",
       "      <td>Power BI Developer</td>\n",
       "      <td>Alpha Tech</td>\n",
       "      <td>AzureAnalysisServices,AmazonAws,Devops,Jenkins...</td>\n",
       "      <td>3 days ago</td>\n",
       "      <td>Bengaluru / Bangalore,  Chennai,  Hyderabad/Se...</td>\n",
       "      <td>4.50 - 7.50</td>\n",
       "      <td>0 - 1</td>\n",
       "    </tr>\n",
       "    <tr>\n",
       "      <th>1</th>\n",
       "      <td>Power BI Developer</td>\n",
       "      <td>Relevance Lab Inc</td>\n",
       "      <td>powerbi,dax,tsql,ssrs,dataanalyst,sql,algorith...</td>\n",
       "      <td>5 days ago</td>\n",
       "      <td>Bengaluru / Bangalore</td>\n",
       "      <td>Not Provided</td>\n",
       "      <td>5 - 8</td>\n",
       "    </tr>\n",
       "    <tr>\n",
       "      <th>2</th>\n",
       "      <td>Business Analyst</td>\n",
       "      <td>AppSoft Solutions</td>\n",
       "      <td>MarketResearch,MarketingStrategy,BusinessDevel...</td>\n",
       "      <td>2 days ago</td>\n",
       "      <td>Bengaluru / Bangalore,  Delhi,  Hyderabad/Secu...</td>\n",
       "      <td>6.50 - 12.00</td>\n",
       "      <td>0 - 3</td>\n",
       "    </tr>\n",
       "    <tr>\n",
       "      <th>3</th>\n",
       "      <td>Azure Synapse ,  SQL  &amp;  Power BI Developer</td>\n",
       "      <td>PUBLICIS GROUPE</td>\n",
       "      <td>businessintelligence,sql,bideveloper,etl,dwh,d...</td>\n",
       "      <td>5 days ago</td>\n",
       "      <td>Bengaluru / Bangalore</td>\n",
       "      <td>Not Provided</td>\n",
       "      <td>0 - 3</td>\n",
       "    </tr>\n",
       "    <tr>\n",
       "      <th>4</th>\n",
       "      <td>Data Scientist  /  Data Analyst Fresher</td>\n",
       "      <td>Alpha Tech</td>\n",
       "      <td>TDD,DeepLearnig,Deployment,MongoDB,SQL,Python,...</td>\n",
       "      <td>3 days ago</td>\n",
       "      <td>Bengaluru / Bangalore,  Chennai,  Hyderabad/Se...</td>\n",
       "      <td>4.50 - 7.50</td>\n",
       "      <td>0 - 1</td>\n",
       "    </tr>\n",
       "    <tr>\n",
       "      <th>5</th>\n",
       "      <td>Power BI Developer</td>\n",
       "      <td>destiny hr group services</td>\n",
       "      <td>bi,bideveloper,CreatingDatamodel</td>\n",
       "      <td>5 days ago</td>\n",
       "      <td>Noida/Greater Noida</td>\n",
       "      <td>Not Provided</td>\n",
       "      <td>3 - 6</td>\n",
       "    </tr>\n",
       "    <tr>\n",
       "      <th>6</th>\n",
       "      <td>Power BI Developer</td>\n",
       "      <td>bitscape infotech pvt. ltd.</td>\n",
       "      <td>bi,security,database,etltool,bideveloper,ssis,...</td>\n",
       "      <td>5 days ago</td>\n",
       "      <td>Ahmedabad</td>\n",
       "      <td>Not Provided</td>\n",
       "      <td>2 - 5</td>\n",
       "    </tr>\n",
       "    <tr>\n",
       "      <th>7</th>\n",
       "      <td>Power BI Developer</td>\n",
       "      <td>AbsolutData Research &amp; Analytics  ( P )  Ltd</td>\n",
       "      <td>powerbi,businessintelligence,datawarehousing,r...</td>\n",
       "      <td>5 days ago</td>\n",
       "      <td>Gurgaon</td>\n",
       "      <td>Not Provided</td>\n",
       "      <td>3 - 5</td>\n",
       "    </tr>\n",
       "    <tr>\n",
       "      <th>8</th>\n",
       "      <td>Power BI Developer - Senior</td>\n",
       "      <td>TECHNOPARK TRIVANDRUM</td>\n",
       "      <td>powerbi,databasewithsql,ssis/ssrs,cloudbitools...</td>\n",
       "      <td>5 days ago</td>\n",
       "      <td>Cochin/ Kochi/ Ernakulam</td>\n",
       "      <td>Not Provided</td>\n",
       "      <td>4 - 7</td>\n",
       "    </tr>\n",
       "    <tr>\n",
       "      <th>9</th>\n",
       "      <td>Senior Power BI Developer</td>\n",
       "      <td>destiny hr group services</td>\n",
       "      <td>microsofttechnologies,bi,businessintelligence,...</td>\n",
       "      <td>5 days ago</td>\n",
       "      <td>Gurgaon</td>\n",
       "      <td>Not Provided</td>\n",
       "      <td>8 - 11</td>\n",
       "    </tr>\n",
       "  </tbody>\n",
       "</table>\n",
       "</div>\n",
       "    <div class=\"colab-df-buttons\">\n",
       "\n",
       "  <div class=\"colab-df-container\">\n",
       "    <button class=\"colab-df-convert\" onclick=\"convertToInteractive('df-4e93d600-dee8-4be3-9b19-d17bcd393fbd')\"\n",
       "            title=\"Convert this dataframe to an interactive table.\"\n",
       "            style=\"display:none;\">\n",
       "\n",
       "  <svg xmlns=\"http://www.w3.org/2000/svg\" height=\"24px\" viewBox=\"0 -960 960 960\">\n",
       "    <path d=\"M120-120v-720h720v720H120Zm60-500h600v-160H180v160Zm220 220h160v-160H400v160Zm0 220h160v-160H400v160ZM180-400h160v-160H180v160Zm440 0h160v-160H620v160ZM180-180h160v-160H180v160Zm440 0h160v-160H620v160Z\"/>\n",
       "  </svg>\n",
       "    </button>\n",
       "\n",
       "  <style>\n",
       "    .colab-df-container {\n",
       "      display:flex;\n",
       "      gap: 12px;\n",
       "    }\n",
       "\n",
       "    .colab-df-convert {\n",
       "      background-color: #E8F0FE;\n",
       "      border: none;\n",
       "      border-radius: 50%;\n",
       "      cursor: pointer;\n",
       "      display: none;\n",
       "      fill: #1967D2;\n",
       "      height: 32px;\n",
       "      padding: 0 0 0 0;\n",
       "      width: 32px;\n",
       "    }\n",
       "\n",
       "    .colab-df-convert:hover {\n",
       "      background-color: #E2EBFA;\n",
       "      box-shadow: 0px 1px 2px rgba(60, 64, 67, 0.3), 0px 1px 3px 1px rgba(60, 64, 67, 0.15);\n",
       "      fill: #174EA6;\n",
       "    }\n",
       "\n",
       "    .colab-df-buttons div {\n",
       "      margin-bottom: 4px;\n",
       "    }\n",
       "\n",
       "    [theme=dark] .colab-df-convert {\n",
       "      background-color: #3B4455;\n",
       "      fill: #D2E3FC;\n",
       "    }\n",
       "\n",
       "    [theme=dark] .colab-df-convert:hover {\n",
       "      background-color: #434B5C;\n",
       "      box-shadow: 0px 1px 3px 1px rgba(0, 0, 0, 0.15);\n",
       "      filter: drop-shadow(0px 1px 2px rgba(0, 0, 0, 0.3));\n",
       "      fill: #FFFFFF;\n",
       "    }\n",
       "  </style>\n",
       "\n",
       "    <script>\n",
       "      const buttonEl =\n",
       "        document.querySelector('#df-4e93d600-dee8-4be3-9b19-d17bcd393fbd button.colab-df-convert');\n",
       "      buttonEl.style.display =\n",
       "        google.colab.kernel.accessAllowed ? 'block' : 'none';\n",
       "\n",
       "      async function convertToInteractive(key) {\n",
       "        const element = document.querySelector('#df-4e93d600-dee8-4be3-9b19-d17bcd393fbd');\n",
       "        const dataTable =\n",
       "          await google.colab.kernel.invokeFunction('convertToInteractive',\n",
       "                                                    [key], {});\n",
       "        if (!dataTable) return;\n",
       "\n",
       "        const docLinkHtml = 'Like what you see? Visit the ' +\n",
       "          '<a target=\"_blank\" href=https://colab.research.google.com/notebooks/data_table.ipynb>data table notebook</a>'\n",
       "          + ' to learn more about interactive tables.';\n",
       "        element.innerHTML = '';\n",
       "        dataTable['output_type'] = 'display_data';\n",
       "        await google.colab.output.renderOutput(dataTable, element);\n",
       "        const docLink = document.createElement('div');\n",
       "        docLink.innerHTML = docLinkHtml;\n",
       "        element.appendChild(docLink);\n",
       "      }\n",
       "    </script>\n",
       "  </div>\n",
       "\n",
       "\n",
       "<div id=\"df-bcd81465-bd88-4194-b632-48f10cc42037\">\n",
       "  <button class=\"colab-df-quickchart\" onclick=\"quickchart('df-bcd81465-bd88-4194-b632-48f10cc42037')\"\n",
       "            title=\"Suggest charts\"\n",
       "            style=\"display:none;\">\n",
       "\n",
       "<svg xmlns=\"http://www.w3.org/2000/svg\" height=\"24px\"viewBox=\"0 0 24 24\"\n",
       "     width=\"24px\">\n",
       "    <g>\n",
       "        <path d=\"M19 3H5c-1.1 0-2 .9-2 2v14c0 1.1.9 2 2 2h14c1.1 0 2-.9 2-2V5c0-1.1-.9-2-2-2zM9 17H7v-7h2v7zm4 0h-2V7h2v10zm4 0h-2v-4h2v4z\"/>\n",
       "    </g>\n",
       "</svg>\n",
       "  </button>\n",
       "\n",
       "<style>\n",
       "  .colab-df-quickchart {\n",
       "      --bg-color: #E8F0FE;\n",
       "      --fill-color: #1967D2;\n",
       "      --hover-bg-color: #E2EBFA;\n",
       "      --hover-fill-color: #174EA6;\n",
       "      --disabled-fill-color: #AAA;\n",
       "      --disabled-bg-color: #DDD;\n",
       "  }\n",
       "\n",
       "  [theme=dark] .colab-df-quickchart {\n",
       "      --bg-color: #3B4455;\n",
       "      --fill-color: #D2E3FC;\n",
       "      --hover-bg-color: #434B5C;\n",
       "      --hover-fill-color: #FFFFFF;\n",
       "      --disabled-bg-color: #3B4455;\n",
       "      --disabled-fill-color: #666;\n",
       "  }\n",
       "\n",
       "  .colab-df-quickchart {\n",
       "    background-color: var(--bg-color);\n",
       "    border: none;\n",
       "    border-radius: 50%;\n",
       "    cursor: pointer;\n",
       "    display: none;\n",
       "    fill: var(--fill-color);\n",
       "    height: 32px;\n",
       "    padding: 0;\n",
       "    width: 32px;\n",
       "  }\n",
       "\n",
       "  .colab-df-quickchart:hover {\n",
       "    background-color: var(--hover-bg-color);\n",
       "    box-shadow: 0 1px 2px rgba(60, 64, 67, 0.3), 0 1px 3px 1px rgba(60, 64, 67, 0.15);\n",
       "    fill: var(--button-hover-fill-color);\n",
       "  }\n",
       "\n",
       "  .colab-df-quickchart-complete:disabled,\n",
       "  .colab-df-quickchart-complete:disabled:hover {\n",
       "    background-color: var(--disabled-bg-color);\n",
       "    fill: var(--disabled-fill-color);\n",
       "    box-shadow: none;\n",
       "  }\n",
       "\n",
       "  .colab-df-spinner {\n",
       "    border: 2px solid var(--fill-color);\n",
       "    border-color: transparent;\n",
       "    border-bottom-color: var(--fill-color);\n",
       "    animation:\n",
       "      spin 1s steps(1) infinite;\n",
       "  }\n",
       "\n",
       "  @keyframes spin {\n",
       "    0% {\n",
       "      border-color: transparent;\n",
       "      border-bottom-color: var(--fill-color);\n",
       "      border-left-color: var(--fill-color);\n",
       "    }\n",
       "    20% {\n",
       "      border-color: transparent;\n",
       "      border-left-color: var(--fill-color);\n",
       "      border-top-color: var(--fill-color);\n",
       "    }\n",
       "    30% {\n",
       "      border-color: transparent;\n",
       "      border-left-color: var(--fill-color);\n",
       "      border-top-color: var(--fill-color);\n",
       "      border-right-color: var(--fill-color);\n",
       "    }\n",
       "    40% {\n",
       "      border-color: transparent;\n",
       "      border-right-color: var(--fill-color);\n",
       "      border-top-color: var(--fill-color);\n",
       "    }\n",
       "    60% {\n",
       "      border-color: transparent;\n",
       "      border-right-color: var(--fill-color);\n",
       "    }\n",
       "    80% {\n",
       "      border-color: transparent;\n",
       "      border-right-color: var(--fill-color);\n",
       "      border-bottom-color: var(--fill-color);\n",
       "    }\n",
       "    90% {\n",
       "      border-color: transparent;\n",
       "      border-bottom-color: var(--fill-color);\n",
       "    }\n",
       "  }\n",
       "</style>\n",
       "\n",
       "  <script>\n",
       "    async function quickchart(key) {\n",
       "      const quickchartButtonEl =\n",
       "        document.querySelector('#' + key + ' button');\n",
       "      quickchartButtonEl.disabled = true;  // To prevent multiple clicks.\n",
       "      quickchartButtonEl.classList.add('colab-df-spinner');\n",
       "      try {\n",
       "        const charts = await google.colab.kernel.invokeFunction(\n",
       "            'suggestCharts', [key], {});\n",
       "      } catch (error) {\n",
       "        console.error('Error during call to suggestCharts:', error);\n",
       "      }\n",
       "      quickchartButtonEl.classList.remove('colab-df-spinner');\n",
       "      quickchartButtonEl.classList.add('colab-df-quickchart-complete');\n",
       "    }\n",
       "    (() => {\n",
       "      let quickchartButtonEl =\n",
       "        document.querySelector('#df-bcd81465-bd88-4194-b632-48f10cc42037 button');\n",
       "      quickchartButtonEl.style.display =\n",
       "        google.colab.kernel.accessAllowed ? 'block' : 'none';\n",
       "    })();\n",
       "  </script>\n",
       "</div>\n",
       "    </div>\n",
       "  </div>\n"
      ],
      "text/plain": [
       "                                     Job Title  \\\n",
       "0                           Power BI Developer   \n",
       "1                           Power BI Developer   \n",
       "2                             Business Analyst   \n",
       "3  Azure Synapse ,  SQL  &  Power BI Developer   \n",
       "4      Data Scientist  /  Data Analyst Fresher   \n",
       "5                           Power BI Developer   \n",
       "6                           Power BI Developer   \n",
       "7                           Power BI Developer   \n",
       "8                  Power BI Developer - Senior   \n",
       "9                    Senior Power BI Developer   \n",
       "\n",
       "                                        Company  \\\n",
       "0                                Alpha Tech       \n",
       "1                             Relevance Lab Inc   \n",
       "2                         AppSoft Solutions       \n",
       "3                               PUBLICIS GROUPE   \n",
       "4                                Alpha Tech       \n",
       "5                     destiny hr group services   \n",
       "6                   bitscape infotech pvt. ltd.   \n",
       "7  AbsolutData Research & Analytics  ( P )  Ltd   \n",
       "8                         TECHNOPARK TRIVANDRUM   \n",
       "9                     destiny hr group services   \n",
       "\n",
       "                                     Skills Required Job Posted Ago  \\\n",
       "0  AzureAnalysisServices,AmazonAws,Devops,Jenkins...     3 days ago   \n",
       "1  powerbi,dax,tsql,ssrs,dataanalyst,sql,algorith...     5 days ago   \n",
       "2  MarketResearch,MarketingStrategy,BusinessDevel...     2 days ago   \n",
       "3  businessintelligence,sql,bideveloper,etl,dwh,d...     5 days ago   \n",
       "4  TDD,DeepLearnig,Deployment,MongoDB,SQL,Python,...     3 days ago   \n",
       "5                   bi,bideveloper,CreatingDatamodel     5 days ago   \n",
       "6  bi,security,database,etltool,bideveloper,ssis,...     5 days ago   \n",
       "7  powerbi,businessintelligence,datawarehousing,r...     5 days ago   \n",
       "8  powerbi,databasewithsql,ssis/ssrs,cloudbitools...     5 days ago   \n",
       "9  microsofttechnologies,bi,businessintelligence,...     5 days ago   \n",
       "\n",
       "                                            Location Salary(Lacs p.a.)  \\\n",
       "0  Bengaluru / Bangalore,  Chennai,  Hyderabad/Se...      4.50 - 7.50    \n",
       "1                              Bengaluru / Bangalore      Not Provided   \n",
       "2  Bengaluru / Bangalore,  Delhi,  Hyderabad/Secu...     6.50 - 12.00    \n",
       "3                              Bengaluru / Bangalore      Not Provided   \n",
       "4  Bengaluru / Bangalore,  Chennai,  Hyderabad/Se...      4.50 - 7.50    \n",
       "5                                Noida/Greater Noida      Not Provided   \n",
       "6                                          Ahmedabad      Not Provided   \n",
       "7                                            Gurgaon      Not Provided   \n",
       "8                           Cochin/ Kochi/ Ernakulam      Not Provided   \n",
       "9                                            Gurgaon      Not Provided   \n",
       "\n",
       "  Experience Required(Years)  \n",
       "0                     0 - 1   \n",
       "1                     5 - 8   \n",
       "2                     0 - 3   \n",
       "3                     0 - 3   \n",
       "4                     0 - 1   \n",
       "5                     3 - 6   \n",
       "6                     2 - 5   \n",
       "7                     3 - 5   \n",
       "8                     4 - 7   \n",
       "9                    8 - 11   "
      ]
     },
     "execution_count": 56,
     "metadata": {},
     "output_type": "execute_result"
    }
   ],
   "source": [
    "# Display the head of the DataFrame with data from multiple pages\n",
    "print('Scraped Data from Multiple Pages:')\n",
    "df.head(10)\n"
   ]
  },
  {
   "cell_type": "markdown",
   "metadata": {
    "id": "Mwbj0-xivoO-"
   },
   "source": [
    "### **Dataset Rows & Columns count**"
   ]
  },
  {
   "cell_type": "code",
   "execution_count": null,
   "metadata": {
    "colab": {
     "base_uri": "https://localhost:8080/"
    },
    "id": "bsWnmhk1oXxs",
    "outputId": "c9185553-a34d-4805-f50c-66868a645387"
   },
   "outputs": [
    {
     "name": "stdout",
     "output_type": "stream",
     "text": [
      "Scraped Data Rows Count: 250\n",
      "Scraped Data Columns Count: 7\n"
     ]
    }
   ],
   "source": [
    "# Dataset Rows & Columns count\n",
    "print('Scraped Data Rows Count:',df.shape[0])\n",
    "print('Scraped Data Columns Count:',df.shape[1])\n"
   ]
  },
  {
   "cell_type": "markdown",
   "metadata": {
    "id": "uA7strE0v5RC"
   },
   "source": [
    "### **Dataset Information**"
   ]
  },
  {
   "cell_type": "code",
   "execution_count": null,
   "metadata": {
    "colab": {
     "base_uri": "https://localhost:8080/"
    },
    "id": "bibQSWE0orOp",
    "outputId": "014a7c91-ec9a-4b8a-e18a-0da238cd0553"
   },
   "outputs": [
    {
     "name": "stdout",
     "output_type": "stream",
     "text": [
      "Scraped Data Info:\n",
      "<class 'pandas.core.frame.DataFrame'>\n",
      "RangeIndex: 250 entries, 0 to 249\n",
      "Data columns (total 7 columns):\n",
      " #   Column               Non-Null Count  Dtype \n",
      "---  ------               --------------  ----- \n",
      " 0   Job Title            250 non-null    object\n",
      " 1   Company              250 non-null    object\n",
      " 2   Skills Required      250 non-null    object\n",
      " 3   Job Posted Ago       250 non-null    object\n",
      " 4   Location             250 non-null    object\n",
      " 5   Salary(Lacs p.a.)    250 non-null    object\n",
      " 6   Experience Required  250 non-null    object\n",
      "dtypes: object(7)\n",
      "memory usage: 13.8+ KB\n"
     ]
    }
   ],
   "source": [
    "# Dataset Info\n",
    "print('Scraped Data Info:')\n",
    "df.info()\n"
   ]
  },
  {
   "cell_type": "markdown",
   "metadata": {
    "id": "n2utRUVnwBxy"
   },
   "source": [
    "#### **Duplicate Values**"
   ]
  },
  {
   "cell_type": "code",
   "execution_count": null,
   "metadata": {
    "colab": {
     "base_uri": "https://localhost:8080/"
    },
    "id": "PcmTD8gBo1Lw",
    "outputId": "9680e216-2fc2-49fd-d7e7-0fbdf9b3f0fb"
   },
   "outputs": [
    {
     "name": "stdout",
     "output_type": "stream",
     "text": [
      "Play Store Data Duplicate Value Count: 2\n"
     ]
    }
   ],
   "source": [
    "# Dataset Duplicate Value Count\n",
    "print('Play Store Data Duplicate Value Count:',len(df[df.duplicated()]))\n"
   ]
  },
  {
   "cell_type": "markdown",
   "metadata": {
    "id": "cDsP_6xBwLck"
   },
   "source": [
    "#### **Missing Values/Null Values**"
   ]
  },
  {
   "cell_type": "code",
   "execution_count": null,
   "metadata": {
    "colab": {
     "base_uri": "https://localhost:8080/"
    },
    "id": "RlPc0TmJsnhH",
    "outputId": "b6ee1f2b-52b3-486e-c87d-36d3dcd55e5b"
   },
   "outputs": [
    {
     "name": "stdout",
     "output_type": "stream",
     "text": [
      "Null value % in Scraped Data:\n",
      "                    datatype  not null values  null value  null value(%)\n",
      "Job Title             object              250           0            0.0\n",
      "Company               object              250           0            0.0\n",
      "Skills Required       object              250           0            0.0\n",
      "Job Posted Ago        object              250           0            0.0\n",
      "Location              object              238          12            4.8\n",
      "Salary(Lacs p.a.)     object              250           0            0.0\n",
      "Experience Required   object              250           0            0.0\n"
     ]
    }
   ],
   "source": [
    "# Missing Values/Null Values Count\n",
    "# Function to calculate the percentage of null values in each column\n",
    "def unified_null_percent(data_fm):\n",
    "    # Convert empty strings to NaN\n",
    "    data_fm = data_fm.replace('', pd.NA)\n",
    "\n",
    "    null_info = pd.DataFrame(index=data_fm.columns)\n",
    "    null_info[\"datatype\"] = data_fm.dtypes\n",
    "    null_info[\"not null values\"] = data_fm.count()\n",
    "    null_info[\"null value\"] = data_fm.isnull().sum()\n",
    "    null_info[\"null value(%)\"] = round(data_fm.isnull().mean() * 100, 2)\n",
    "\n",
    "    return null_info\n",
    "# Display the percentage of null values for Play Store Data\n",
    "print('Null value % in Scraped Data:', unified_null_percent(df), sep='\\n')\n"
   ]
  },
  {
   "cell_type": "markdown",
   "metadata": {
    "id": "uFbWBhjvKL4W"
   },
   "source": [
    "### What did you know about your dataset?"
   ]
  },
  {
   "cell_type": "markdown",
   "metadata": {
    "id": "cuMFZUyzKMuJ"
   },
   "source": [
    "The dataset is related to the online job portal industry, containing 250 rows and 7 columns obtained by scraping data from the first 10 pages of the job portal website. A 4.8% occurrence of missing values is observed in the 'Location' column. Our primary goal is to uncover trends in the current data science job market."
   ]
  },
  {
   "cell_type": "markdown",
   "metadata": {
    "id": "xeWK9gAnwdf5"
   },
   "source": [
    "## ***2. Understanding Your Variables***"
   ]
  },
  {
   "cell_type": "code",
   "execution_count": null,
   "metadata": {
    "colab": {
     "base_uri": "https://localhost:8080/"
    },
    "id": "gbTXQT2xpLxN",
    "outputId": "db03cb30-97a3-4f42-c7d0-3c96065d28e3"
   },
   "outputs": [
    {
     "name": "stdout",
     "output_type": "stream",
     "text": [
      "Scraped Dataset Columns:\n",
      "Index(['Job Title', 'Company', 'Skills Required', 'Job Posted Ago', 'Location',\n",
      "       'Salary(Lacs p.a.)', 'Experience Required'],\n",
      "      dtype='object')\n",
      "\n"
     ]
    }
   ],
   "source": [
    "# Dataset Columns\n",
    "print('Scraped Dataset Columns:',df.columns,sep='\\n',end='\\n\\n')\n"
   ]
  },
  {
   "cell_type": "code",
   "execution_count": null,
   "metadata": {
    "colab": {
     "base_uri": "https://localhost:8080/",
     "height": 175
    },
    "id": "acAl_LeIpRvB",
    "outputId": "59255a9f-c228-4d6d-be48-e13053ea94fe"
   },
   "outputs": [
    {
     "data": {
      "text/html": [
       "\n",
       "  <div id=\"df-39e1dbd8-2a31-4837-93cc-f4acd234d59e\" class=\"colab-df-container\">\n",
       "    <div>\n",
       "<style scoped>\n",
       "    .dataframe tbody tr th:only-of-type {\n",
       "        vertical-align: middle;\n",
       "    }\n",
       "\n",
       "    .dataframe tbody tr th {\n",
       "        vertical-align: top;\n",
       "    }\n",
       "\n",
       "    .dataframe thead th {\n",
       "        text-align: right;\n",
       "    }\n",
       "</style>\n",
       "<table border=\"1\" class=\"dataframe\">\n",
       "  <thead>\n",
       "    <tr style=\"text-align: right;\">\n",
       "      <th></th>\n",
       "      <th>Job Title</th>\n",
       "      <th>Company</th>\n",
       "      <th>Skills Required</th>\n",
       "      <th>Job Posted Ago</th>\n",
       "      <th>Location</th>\n",
       "      <th>Salary(Lacs p.a.)</th>\n",
       "      <th>Experience Required(Years)</th>\n",
       "    </tr>\n",
       "  </thead>\n",
       "  <tbody>\n",
       "    <tr>\n",
       "      <th>count</th>\n",
       "      <td>250</td>\n",
       "      <td>250</td>\n",
       "      <td>250</td>\n",
       "      <td>250</td>\n",
       "      <td>250</td>\n",
       "      <td>250</td>\n",
       "      <td>250</td>\n",
       "    </tr>\n",
       "    <tr>\n",
       "      <th>unique</th>\n",
       "      <td>188</td>\n",
       "      <td>129</td>\n",
       "      <td>233</td>\n",
       "      <td>7</td>\n",
       "      <td>85</td>\n",
       "      <td>26</td>\n",
       "      <td>49</td>\n",
       "    </tr>\n",
       "    <tr>\n",
       "      <th>top</th>\n",
       "      <td>Business Analyst</td>\n",
       "      <td>Sunil Upadhyay</td>\n",
       "      <td>microsofttechnologies,bi,businessintelligence,...</td>\n",
       "      <td>5 days ago</td>\n",
       "      <td>Bengaluru / Bangalore</td>\n",
       "      <td>Not Provided</td>\n",
       "      <td>0 - 3</td>\n",
       "    </tr>\n",
       "    <tr>\n",
       "      <th>freq</th>\n",
       "      <td>27</td>\n",
       "      <td>14</td>\n",
       "      <td>4</td>\n",
       "      <td>149</td>\n",
       "      <td>54</td>\n",
       "      <td>199</td>\n",
       "      <td>30</td>\n",
       "    </tr>\n",
       "  </tbody>\n",
       "</table>\n",
       "</div>\n",
       "    <div class=\"colab-df-buttons\">\n",
       "\n",
       "  <div class=\"colab-df-container\">\n",
       "    <button class=\"colab-df-convert\" onclick=\"convertToInteractive('df-39e1dbd8-2a31-4837-93cc-f4acd234d59e')\"\n",
       "            title=\"Convert this dataframe to an interactive table.\"\n",
       "            style=\"display:none;\">\n",
       "\n",
       "  <svg xmlns=\"http://www.w3.org/2000/svg\" height=\"24px\" viewBox=\"0 -960 960 960\">\n",
       "    <path d=\"M120-120v-720h720v720H120Zm60-500h600v-160H180v160Zm220 220h160v-160H400v160Zm0 220h160v-160H400v160ZM180-400h160v-160H180v160Zm440 0h160v-160H620v160ZM180-180h160v-160H180v160Zm440 0h160v-160H620v160Z\"/>\n",
       "  </svg>\n",
       "    </button>\n",
       "\n",
       "  <style>\n",
       "    .colab-df-container {\n",
       "      display:flex;\n",
       "      gap: 12px;\n",
       "    }\n",
       "\n",
       "    .colab-df-convert {\n",
       "      background-color: #E8F0FE;\n",
       "      border: none;\n",
       "      border-radius: 50%;\n",
       "      cursor: pointer;\n",
       "      display: none;\n",
       "      fill: #1967D2;\n",
       "      height: 32px;\n",
       "      padding: 0 0 0 0;\n",
       "      width: 32px;\n",
       "    }\n",
       "\n",
       "    .colab-df-convert:hover {\n",
       "      background-color: #E2EBFA;\n",
       "      box-shadow: 0px 1px 2px rgba(60, 64, 67, 0.3), 0px 1px 3px 1px rgba(60, 64, 67, 0.15);\n",
       "      fill: #174EA6;\n",
       "    }\n",
       "\n",
       "    .colab-df-buttons div {\n",
       "      margin-bottom: 4px;\n",
       "    }\n",
       "\n",
       "    [theme=dark] .colab-df-convert {\n",
       "      background-color: #3B4455;\n",
       "      fill: #D2E3FC;\n",
       "    }\n",
       "\n",
       "    [theme=dark] .colab-df-convert:hover {\n",
       "      background-color: #434B5C;\n",
       "      box-shadow: 0px 1px 3px 1px rgba(0, 0, 0, 0.15);\n",
       "      filter: drop-shadow(0px 1px 2px rgba(0, 0, 0, 0.3));\n",
       "      fill: #FFFFFF;\n",
       "    }\n",
       "  </style>\n",
       "\n",
       "    <script>\n",
       "      const buttonEl =\n",
       "        document.querySelector('#df-39e1dbd8-2a31-4837-93cc-f4acd234d59e button.colab-df-convert');\n",
       "      buttonEl.style.display =\n",
       "        google.colab.kernel.accessAllowed ? 'block' : 'none';\n",
       "\n",
       "      async function convertToInteractive(key) {\n",
       "        const element = document.querySelector('#df-39e1dbd8-2a31-4837-93cc-f4acd234d59e');\n",
       "        const dataTable =\n",
       "          await google.colab.kernel.invokeFunction('convertToInteractive',\n",
       "                                                    [key], {});\n",
       "        if (!dataTable) return;\n",
       "\n",
       "        const docLinkHtml = 'Like what you see? Visit the ' +\n",
       "          '<a target=\"_blank\" href=https://colab.research.google.com/notebooks/data_table.ipynb>data table notebook</a>'\n",
       "          + ' to learn more about interactive tables.';\n",
       "        element.innerHTML = '';\n",
       "        dataTable['output_type'] = 'display_data';\n",
       "        await google.colab.output.renderOutput(dataTable, element);\n",
       "        const docLink = document.createElement('div');\n",
       "        docLink.innerHTML = docLinkHtml;\n",
       "        element.appendChild(docLink);\n",
       "      }\n",
       "    </script>\n",
       "  </div>\n",
       "\n",
       "\n",
       "<div id=\"df-05bfc488-b5e3-421a-a3c2-43b4eccfac82\">\n",
       "  <button class=\"colab-df-quickchart\" onclick=\"quickchart('df-05bfc488-b5e3-421a-a3c2-43b4eccfac82')\"\n",
       "            title=\"Suggest charts\"\n",
       "            style=\"display:none;\">\n",
       "\n",
       "<svg xmlns=\"http://www.w3.org/2000/svg\" height=\"24px\"viewBox=\"0 0 24 24\"\n",
       "     width=\"24px\">\n",
       "    <g>\n",
       "        <path d=\"M19 3H5c-1.1 0-2 .9-2 2v14c0 1.1.9 2 2 2h14c1.1 0 2-.9 2-2V5c0-1.1-.9-2-2-2zM9 17H7v-7h2v7zm4 0h-2V7h2v10zm4 0h-2v-4h2v4z\"/>\n",
       "    </g>\n",
       "</svg>\n",
       "  </button>\n",
       "\n",
       "<style>\n",
       "  .colab-df-quickchart {\n",
       "      --bg-color: #E8F0FE;\n",
       "      --fill-color: #1967D2;\n",
       "      --hover-bg-color: #E2EBFA;\n",
       "      --hover-fill-color: #174EA6;\n",
       "      --disabled-fill-color: #AAA;\n",
       "      --disabled-bg-color: #DDD;\n",
       "  }\n",
       "\n",
       "  [theme=dark] .colab-df-quickchart {\n",
       "      --bg-color: #3B4455;\n",
       "      --fill-color: #D2E3FC;\n",
       "      --hover-bg-color: #434B5C;\n",
       "      --hover-fill-color: #FFFFFF;\n",
       "      --disabled-bg-color: #3B4455;\n",
       "      --disabled-fill-color: #666;\n",
       "  }\n",
       "\n",
       "  .colab-df-quickchart {\n",
       "    background-color: var(--bg-color);\n",
       "    border: none;\n",
       "    border-radius: 50%;\n",
       "    cursor: pointer;\n",
       "    display: none;\n",
       "    fill: var(--fill-color);\n",
       "    height: 32px;\n",
       "    padding: 0;\n",
       "    width: 32px;\n",
       "  }\n",
       "\n",
       "  .colab-df-quickchart:hover {\n",
       "    background-color: var(--hover-bg-color);\n",
       "    box-shadow: 0 1px 2px rgba(60, 64, 67, 0.3), 0 1px 3px 1px rgba(60, 64, 67, 0.15);\n",
       "    fill: var(--button-hover-fill-color);\n",
       "  }\n",
       "\n",
       "  .colab-df-quickchart-complete:disabled,\n",
       "  .colab-df-quickchart-complete:disabled:hover {\n",
       "    background-color: var(--disabled-bg-color);\n",
       "    fill: var(--disabled-fill-color);\n",
       "    box-shadow: none;\n",
       "  }\n",
       "\n",
       "  .colab-df-spinner {\n",
       "    border: 2px solid var(--fill-color);\n",
       "    border-color: transparent;\n",
       "    border-bottom-color: var(--fill-color);\n",
       "    animation:\n",
       "      spin 1s steps(1) infinite;\n",
       "  }\n",
       "\n",
       "  @keyframes spin {\n",
       "    0% {\n",
       "      border-color: transparent;\n",
       "      border-bottom-color: var(--fill-color);\n",
       "      border-left-color: var(--fill-color);\n",
       "    }\n",
       "    20% {\n",
       "      border-color: transparent;\n",
       "      border-left-color: var(--fill-color);\n",
       "      border-top-color: var(--fill-color);\n",
       "    }\n",
       "    30% {\n",
       "      border-color: transparent;\n",
       "      border-left-color: var(--fill-color);\n",
       "      border-top-color: var(--fill-color);\n",
       "      border-right-color: var(--fill-color);\n",
       "    }\n",
       "    40% {\n",
       "      border-color: transparent;\n",
       "      border-right-color: var(--fill-color);\n",
       "      border-top-color: var(--fill-color);\n",
       "    }\n",
       "    60% {\n",
       "      border-color: transparent;\n",
       "      border-right-color: var(--fill-color);\n",
       "    }\n",
       "    80% {\n",
       "      border-color: transparent;\n",
       "      border-right-color: var(--fill-color);\n",
       "      border-bottom-color: var(--fill-color);\n",
       "    }\n",
       "    90% {\n",
       "      border-color: transparent;\n",
       "      border-bottom-color: var(--fill-color);\n",
       "    }\n",
       "  }\n",
       "</style>\n",
       "\n",
       "  <script>\n",
       "    async function quickchart(key) {\n",
       "      const quickchartButtonEl =\n",
       "        document.querySelector('#' + key + ' button');\n",
       "      quickchartButtonEl.disabled = true;  // To prevent multiple clicks.\n",
       "      quickchartButtonEl.classList.add('colab-df-spinner');\n",
       "      try {\n",
       "        const charts = await google.colab.kernel.invokeFunction(\n",
       "            'suggestCharts', [key], {});\n",
       "      } catch (error) {\n",
       "        console.error('Error during call to suggestCharts:', error);\n",
       "      }\n",
       "      quickchartButtonEl.classList.remove('colab-df-spinner');\n",
       "      quickchartButtonEl.classList.add('colab-df-quickchart-complete');\n",
       "    }\n",
       "    (() => {\n",
       "      let quickchartButtonEl =\n",
       "        document.querySelector('#df-05bfc488-b5e3-421a-a3c2-43b4eccfac82 button');\n",
       "      quickchartButtonEl.style.display =\n",
       "        google.colab.kernel.accessAllowed ? 'block' : 'none';\n",
       "    })();\n",
       "  </script>\n",
       "</div>\n",
       "    </div>\n",
       "  </div>\n"
      ],
      "text/plain": [
       "               Job Title             Company  \\\n",
       "count                250                 250   \n",
       "unique               188                 129   \n",
       "top     Business Analyst  Sunil Upadhyay       \n",
       "freq                  27                  14   \n",
       "\n",
       "                                          Skills Required Job Posted Ago  \\\n",
       "count                                                 250            250   \n",
       "unique                                                233              7   \n",
       "top     microsofttechnologies,bi,businessintelligence,...     5 days ago   \n",
       "freq                                                    4            149   \n",
       "\n",
       "                     Location Salary(Lacs p.a.) Experience Required(Years)  \n",
       "count                     250               250                        250  \n",
       "unique                     85                26                         49  \n",
       "top     Bengaluru / Bangalore      Not Provided                     0 - 3   \n",
       "freq                       54               199                         30  "
      ]
     },
     "execution_count": 59,
     "metadata": {},
     "output_type": "execute_result"
    }
   ],
   "source": [
    "# Dataset Description\n",
    "df.describe(include='object')\n"
   ]
  },
  {
   "cell_type": "markdown",
   "metadata": {
    "id": "IFcdGmIBxCrG"
   },
   "source": [
    "### **Variables Description**"
   ]
  },
  {
   "cell_type": "markdown",
   "metadata": {
    "id": "_rL_4OVcxGw9"
   },
   "source": [
    "###Descriptions for Scraped Dataset:\n",
    "**Job Title:** The specific designation associated with the job opening.\n",
    "\n",
    "**Company:** The name of the organization that has posted the job.\n",
    "\n",
    "**Skills Required:** The essential skills and qualifications needed for the job.\n",
    "\n",
    "**Job Posted Ago:** The number of days elapsed since the job was posted, providing insight into its freshness.\n",
    "\n",
    "**Location:** The list of cities where the job opportunity is available.\n",
    "\n",
    "**Salary (Lacs p.a.):** The salary range for the position on an annual basis, denoted in lakhs.\n",
    "\n",
    "**Experience Required (Years):** The number of years of professional experience required for the job."
   ]
  },
  {
   "cell_type": "markdown",
   "metadata": {
    "id": "OLaG7xnb2FEF"
   },
   "source": [
    "## 3. ***Data Wrangling***"
   ]
  },
  {
   "cell_type": "code",
   "execution_count": null,
   "metadata": {
    "colab": {
     "base_uri": "https://localhost:8080/"
    },
    "id": "cyKVbwhH2K80",
    "outputId": "9abf5f34-4167-41b5-dbef-77ac1d6f8dac"
   },
   "outputs": [
    {
     "name": "stdout",
     "output_type": "stream",
     "text": [
      "Shape Before Removing Duplicates:\n",
      "Scraped Dataset Rows count: 250\n",
      "Scraped Dataset Columns count: 7\n",
      "\n",
      "Shape After Removing Duplicates:\n",
      "Scraped Dataset Rows count: 248\n",
      "Scraped Dataset Columns count: 7\n"
     ]
    }
   ],
   "source": [
    "# Show Dataset Rows & Columns count Before Removing Duplicates\n",
    "print('Shape Before Removing Duplicates:')\n",
    "print('Scraped Dataset Rows count:',df.shape[0])\n",
    "print('Scraped Dataset Columns count:',df.shape[1],end='\\n\\n')\n",
    "\n",
    "# Remove duplicates\n",
    "df.drop_duplicates(inplace=True)\n",
    "\n",
    "# Show Dataset Rows & Columns count After Removing Duplicates\n",
    "print('Shape After Removing Duplicates:')\n",
    "print('Scraped Dataset Rows count:',df.shape[0])\n",
    "print('Scraped Dataset Columns count:',df.shape[1])\n"
   ]
  },
  {
   "cell_type": "code",
   "execution_count": null,
   "metadata": {
    "colab": {
     "base_uri": "https://localhost:8080/"
    },
    "id": "s0xt9dUK3SQz",
    "outputId": "83cc1d27-38af-4cf1-b75f-a6855f26dfd4"
   },
   "outputs": [
    {
     "name": "stdout",
     "output_type": "stream",
     "text": [
      "Shape Before Removing Missing Values:\n",
      "Scraped Dataset Rows count: 248\n",
      "Scraped Dataset Columns count: 7\n",
      "\n",
      "Shape After Removing Missing Values:\n",
      "Scraped Dataset Rows count: 236\n",
      "Scraped Dataset Columns count: 7\n"
     ]
    }
   ],
   "source": [
    "# Show Dataset Rows & Columns count Before Removing Missing Values\n",
    "print('Shape Before Removing Missing Values:')\n",
    "print('Scraped Dataset Rows count:',df.shape[0])\n",
    "print('Scraped Dataset Columns count:',df.shape[1],end='\\n\\n')\n",
    "\n",
    "# Replace empty strings with NaN in the 'Location' column\n",
    "df['Location'].replace('', pd.NA, inplace=True)\n",
    "\n",
    "# Drop rows with null values in the 'Location' column\n",
    "df.dropna(subset=['Location'], inplace=True)\n",
    "\n",
    "# Show Dataset Rows & Columns count After Removing Missing Values\n",
    "print('Shape After Removing Missing Values:')\n",
    "print('Scraped Dataset Rows count:',df.shape[0])\n",
    "print('Scraped Dataset Columns count:',df.shape[1])\n"
   ]
  },
  {
   "cell_type": "code",
   "execution_count": null,
   "metadata": {
    "colab": {
     "base_uri": "https://localhost:8080/"
    },
    "id": "F7M54N9y34I8",
    "outputId": "872a004a-6861-411a-cf1c-c4f1c9dbb599"
   },
   "outputs": [
    {
     "name": "stdout",
     "output_type": "stream",
     "text": [
      "Updated number of missing values in Scraped Dataset:\n"
     ]
    },
    {
     "data": {
      "text/plain": [
       "Job Title                     0\n",
       "Company                       0\n",
       "Skills Required               0\n",
       "Job Posted Ago                0\n",
       "Location                      0\n",
       "Salary(Lacs p.a.)             0\n",
       "Experience Required(Years)    0\n",
       "dtype: int64"
      ]
     },
     "execution_count": 68,
     "metadata": {},
     "output_type": "execute_result"
    }
   ],
   "source": [
    "# Check missing values again to confirm\n",
    "print('Updated number of missing values in Scraped Dataset:')\n",
    "df.isnull().sum()\n"
   ]
  },
  {
   "cell_type": "markdown",
   "metadata": {
    "id": "AhvsmgiyUNQO"
   },
   "source": [
    "### What all manipulations have you done and insights you found?"
   ]
  },
  {
   "cell_type": "markdown",
   "metadata": {
    "id": "Te4PBUUsUJo5"
   },
   "source": [
    "- Show Dataset Rows & Columns count Before Removing Duplicates\n",
    "  - Rows count: 250\n",
    "  - Columns count: 7\n",
    "- Remove duplicates\n",
    "  - `df.drop_duplicates(inplace=True)`\n",
    "- Show Dataset Rows & Columns count After Removing Duplicates\n",
    "  - Rows count: 248\n",
    "  - Columns count: 7\n",
    "  \n",
    "- Show Dataset Rows & Columns count Before Removing Missing Values\n",
    "  - Rows count: 248\n",
    "  - Columns count: 7\n",
    "\n",
    "- Replace empty strings with NaN in the 'Location' column\n",
    "  - `df['Location'].replace('', pd.NA, inplace=True)`\n",
    "  \n",
    "- Drop rows with null values in the 'Location' column\n",
    "  - `df.dropna(subset=['Location'], inplace=True)`\n",
    "\n",
    "- Show Dataset Rows & Columns count After Removing Missing Values\n",
    "  - Rows count: 236\n",
    "  - Columns count: 7\n",
    "\n",
    "- Check missing values again to confirm\n",
    "  - `df.isnull().sum()`"
   ]
  }
 ],
 "metadata": {
  "colab": {
   "include_colab_link": true,
   "provenance": []
  },
  "kernelspec": {
   "display_name": "Python 3 (ipykernel)",
   "language": "python",
   "name": "python3"
  },
  "language_info": {
   "codemirror_mode": {
    "name": "ipython",
    "version": 3
   },
   "file_extension": ".py",
   "mimetype": "text/x-python",
   "name": "python",
   "nbconvert_exporter": "python",
   "pygments_lexer": "ipython3",
   "version": "3.11.5"
  }
 },
 "nbformat": 4,
 "nbformat_minor": 1
}
